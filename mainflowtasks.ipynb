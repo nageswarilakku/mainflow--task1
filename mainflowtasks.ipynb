{
 "cells": [
  {
   "cell_type": "code",
   "execution_count": 3,
   "id": "d4c16836-168b-4ecf-8fe2-d76891420860",
   "metadata": {},
   "outputs": [
    {
     "name": "stdout",
     "output_type": "stream",
     "text": [
      "[1, 2, 3, 4]\n",
      "[1, 2, 3, 4, 5]\n",
      "[1, 3, 4, 5]\n",
      "[1, 3, 11, 5]\n"
     ]
    }
   ],
   "source": [
    "#creating a list\n",
    "list=[1,2,3,4]\n",
    "print(list)\n",
    "#adding an element to a list\n",
    "list.append(5)\n",
    "print(list)\n",
    "#removing an element from the list\n",
    "list.remove(2)\n",
    "print(list)\n",
    "#modifying an element in the list\n",
    "list[2]=11\n",
    "print(list)"
   ]
  },
  {
   "cell_type": "code",
   "execution_count": 4,
   "id": "70f294ef-25eb-43ce-98d9-e71ee29f18be",
   "metadata": {},
   "outputs": [
    {
     "name": "stdout",
     "output_type": "stream",
     "text": [
      "{'name': 'anji', 'age': 29, 'city': 'chennai'}\n",
      "{'name': 'anji', 'age': 29, 'city': 'chennai', 'gender': 'male'}\n",
      "{'name': 'anji', 'city': 'chennai', 'gender': 'male'}\n",
      "{'name': 'anji', 'city': 'new york', 'gender': 'male'}\n",
      "updated dictionary {'name': 'anji', 'city': 'new york', 'gender': 'male'}\n"
     ]
    }
   ],
   "source": [
    "#Creating a dictionary\n",
    "dict={'name':'anji','age':29,'city':'chennai'}\n",
    "print(dict)\n",
    "#adding\n",
    "dict['gender']='male'\n",
    "print(dict)\n",
    "#removing\n",
    "del dict['age']\n",
    "print(dict)\n",
    "#modifying\n",
    "dict['city']='new york'\n",
    "print(dict)\n",
    "\n",
    "print(\"updated dictionary\",dict)"
   ]
  },
  {
   "cell_type": "code",
   "execution_count": 12,
   "id": "b24961df-59f6-4773-a794-4448c23cde47",
   "metadata": {},
   "outputs": [
    {
     "name": "stdout",
     "output_type": "stream",
     "text": [
      "{1, 2, 3, 4, 5}\n",
      "{1, 2, 3, 4, 5, 10}\n",
      "{1, 2, 4, 5, 10}\n",
      "{1, 4, 5, 10, 11}\n"
     ]
    }
   ],
   "source": [
    "#Creating a set\n",
    "set={1,2,3,4,5}\n",
    "print(set)\n",
    "#adding\n",
    "set.add(10)\n",
    "print(set)\n",
    "#removing\n",
    "set.remove(3)\n",
    "print(set)\n",
    "#modifying\n",
    "set.discard(2)\n",
    "set.add(11)\n",
    "print(set)"
   ]
  },
  {
   "cell_type": "code",
   "execution_count": null,
   "id": "20b992cf-b068-44e9-a1c5-0086b318a46b",
   "metadata": {},
   "outputs": [],
   "source": []
  }
 ],
 "metadata": {
  "kernelspec": {
   "display_name": "Python 3 (ipykernel)",
   "language": "python",
   "name": "python3"
  },
  "language_info": {
   "codemirror_mode": {
    "name": "ipython",
    "version": 3
   },
   "file_extension": ".py",
   "mimetype": "text/x-python",
   "name": "python",
   "nbconvert_exporter": "python",
   "pygments_lexer": "ipython3",
   "version": "3.11.7"
  },
  "widgets": {
   "application/vnd.jupyter.widget-state+json": {
    "state": {},
    "version_major": 2,
    "version_minor": 0
   }
  }
 },
 "nbformat": 4,
 "nbformat_minor": 5
}
